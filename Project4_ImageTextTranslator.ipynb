{
  "nbformat": 4,
  "nbformat_minor": 0,
  "metadata": {
    "colab": {
      "name": "Project4-ImageTextTranslator.ipynb",
      "provenance": [],
      "collapsed_sections": [],
      "include_colab_link": true
    },
    "kernelspec": {
      "display_name": "Python 3",
      "name": "python3"
    },
    "language_info": {
      "name": "python"
    }
  },
  "cells": [
    {
      "cell_type": "markdown",
      "metadata": {
        "id": "view-in-github",
        "colab_type": "text"
      },
      "source": [
        "<a href=\"https://colab.research.google.com/github/solisti/Group1Project3/blob/project4/Project4_ImageTextTranslator.ipynb\" target=\"_parent\"><img src=\"https://colab.research.google.com/assets/colab-badge.svg\" alt=\"Open In Colab\"/></a>"
      ]
    },
    {
      "cell_type": "markdown",
      "metadata": {
        "id": "i_0XGDGrTSA7"
      },
      "source": [
        "# Image Text Translator\n",
        "Click the \"Open in Colab\" link to open this Jupyter Notebook in Google Colab. In Google Colab, click on the file icon (with up arrow) in the Files pane on the left to upload an image file and a font file. By default, files are placed in /contents, which is also the default working directory. Refresh the Files pane by clicking the folder icon with round arrow."
      ]
    },
    {
      "cell_type": "code",
      "metadata": {
        "id": "XeOwYOCzUJqn"
      },
      "source": [
        "# Run this block to install pytesseract and translate (Python libraries)\n",
        "# and tesseract-ocr (from Ubuntu repo), which are not installed\n",
        "# in Google's Ubuntu vm. Need to re-run the block if session times out \n",
        "# after period of un-use. But the installs are fast.\n",
        "\n",
        "# The following will show whether or not pytesseract is installed.\n",
        "# It just prints 0 if installed, or else an error message.\n",
        "# ! python -c \"import pytesseract\"\n",
        "# ! echo $?\n",
        "\n",
        "# PIL is already installed in Google's Ubuntu vm (Bionic, 18.0.4)\n",
        "# ! python -c \"import PIL\"\n",
        "# ! echo $?\n",
        "\n",
        "# In newer Debian and Ubuntu repos the default is now Pillow.\n",
        "# To install on your own Debian/Ubuntu system: \n",
        "# apt install python3-pil and\n",
        "# apt install python3-pil.imgagetk (that installs Pillow now). May not need pil.imagetk.\n",
        "\n",
        "# PIL (Pillow) tutorial: https://pillow.readthedocs.io/en/stable/handbook/tutorial.html\n",
        "\n",
        "# next istall is documented here: https://pypi.org/project/pytesseract/\n",
        "! pip install pytesseract\n",
        "\n",
        "# next install is documented here: https://pypi.org/project/translate/\n",
        "! pip install translate\n",
        "\n",
        "# next install is documented here: https://tesseract-ocr.github.io/tessdoc/Home.html\n",
        "# This is not a Python library (can't insall with pip or conda).\n",
        "! apt install tesseract-ocr\n"
      ],
      "execution_count": null,
      "outputs": []
    },
    {
      "cell_type": "code",
      "metadata": {
        "id": "Qj9ddXGaoQOP",
        "colab": {
          "base_uri": "https://localhost:8080/"
        },
        "outputId": "3dfabfb5-8777-4d22-fa4b-f6d60fdd4339"
      },
      "source": [
        "# This shows that tesseract is installed (and its location)\n",
        "! which tesseract"
      ],
      "execution_count": 4,
      "outputs": [
        {
          "output_type": "stream",
          "name": "stdout",
          "text": [
            "/usr/bin/tesseract\n"
          ]
        }
      ]
    },
    {
      "cell_type": "code",
      "metadata": {
        "id": "dFWitT9AUgm5"
      },
      "source": [
        "# Install the desired languages for tesseract-ocr:\n",
        "# Add (or comment out) languages as desired.\n",
        "# The 3-letter language codes (and language files if needed) can be found here: \n",
        "# https://tesseract-ocr.github.io/tessdoc/Data-Files.html\n",
        "\n",
        "# simplified Chinese\n",
        "! apt install tesseract-ocr-chi-sim\n",
        "\n",
        "# Hungarian\n",
        "! apt install tesseract-ocr-hun\n",
        "\n",
        "# German\n",
        "# ! apt install tesseract-ocr-deu\n",
        "\n",
        "# Spanish\n",
        "# ! apt install tesseract-ocr-spa\n",
        "\n",
        "# French\n",
        "! apt install tesseract-ocr-fra"
      ],
      "execution_count": null,
      "outputs": []
    },
    {
      "cell_type": "code",
      "metadata": {
        "id": "hGvSkuddh9QT",
        "colab": {
          "base_uri": "https://localhost:8080/"
        },
        "outputId": "0db8954a-c831-4282-984f-07e35c7cb6cd"
      },
      "source": [
        "# check which languages are installed:\n",
        "! tesseract --list-langs"
      ],
      "execution_count": 34,
      "outputs": [
        {
          "output_type": "stream",
          "name": "stdout",
          "text": [
            "List of available languages (5):\n",
            "osd\n",
            "chi_sim\n",
            "fra\n",
            "eng\n",
            "hun\n"
          ]
        }
      ]
    },
    {
      "cell_type": "code",
      "metadata": {
        "id": "lRLKBQj15TFW",
        "colab": {
          "base_uri": "https://localhost:8080/"
        },
        "outputId": "7377d3eb-99d9-4f0c-9704-d8ae80c68d68"
      },
      "source": [
        "# maybe helpful to print working directory and contents. \n",
        "# By default the working directory is /content, and uploaded files by default are placed there.\n",
        "# You can also see the uploaded files in the Files pane on the left (may need to click the\n",
        "# folder refresh icon).\n",
        "! pwd\n",
        "! ls"
      ],
      "execution_count": 16,
      "outputs": [
        {
          "output_type": "stream",
          "name": "stdout",
          "text": [
            "/content\n",
            " arial.ttf      ChineseSmall5.png    fyes.png\n",
            " Capture.JPG    ChineseSmall.png     sample_data\n",
            " Chinese5.jpg  'Comic Sans MS.ttf'  'Times New Roman.ttf'\n"
          ]
        }
      ]
    },
    {
      "cell_type": "code",
      "metadata": {
        "id": "n3m0KP2qpsSy",
        "colab": {
          "base_uri": "https://localhost:8080/",
          "height": 126
        },
        "outputId": "e5cd8c18-5be5-450d-d267-6f0d5a4f00ed"
      },
      "source": [
        "# Run this block to display an image file\n",
        "from IPython.display import Image as DispImage\n",
        "\n",
        "# To display an image file that is in the working directory:\n",
        "# DispImage(\"ImageName.jpg\") [change the code according to your file name]\n",
        "DispImage (\"ChineseSmall5.png\")"
      ],
      "execution_count": 15,
      "outputs": [
        {
          "output_type": "execute_result",
          "data": {
            "image/png": "[encoded data removed]",
            "text/plain": [
              "<IPython.core.display.Image object>"
            ]
          },
          "metadata": {},
          "execution_count": 15
        }
      ]
    },
    {
      "cell_type": "markdown",
      "metadata": {
        "id": "thwjBz7R_RO6"
      },
      "source": [
        "The following is the Image Text Tranlsator code block. It is also availabe as the imgtl.py file, which can be run on your local machine with python3. The program will ask you for a file path to your image file. Ideally this will be your working directory, and if so type:\n",
        "\n",
        "./"
      ]
    },
    {
      "cell_type": "code",
      "metadata": {
        "id": "eUq0wXPqlrzu",
        "colab": {
          "base_uri": "https://localhost:8080/"
        },
        "outputId": "2d054458-52fa-41ae-e9d8-156193cb1c3b"
      },
      "source": [
        "from PIL import Image\n",
        "import pytesseract\n",
        "from translate import Translator\n",
        "from PIL import ImageFont, ImageDraw, Image\n",
        "import os # for methods that check if a filepath and a file exist\n",
        "\n",
        "# The next line may not be needed. It is needed if tesseract is not in your PATH\n",
        "# (Check path for tesseract and modify the line below if needed)\n",
        "pytesseract.pytesseract.tesseract_cmd = r'/usr/bin/tesseract'\n",
        "\n",
        "# This function handles the core OCR processing of the input image.\n",
        "def ocr_core(filename, language):\n",
        "    choice = 0\n",
        "    if language == '1':\n",
        "        choice = 'chi_sim'\n",
        "    elif language == '2':\n",
        "        choice = 'deu'\n",
        "    elif language == '3':\n",
        "        choice = 'hun'\n",
        "    elif language == '4':\n",
        "        choice = 'spa'\n",
        "    elif language == '5':\n",
        "        choice = 'fra'\n",
        "    \n",
        "    text = pytesseract.image_to_string(Image.open(filename), lang=choice)\n",
        "    return text\n",
        "\n",
        "# Writes text extracted from image into a txt file named \"script.txt\"\n",
        "# which is saved in the same path as the input image file\n",
        "def writefile(image_path, strstr):\n",
        "\twordlist = strstr.split()\n",
        "\twith open(image_path + '/script.txt', 'a') as f:   \n",
        "\t\tf.writelines(\"\\r\".join(wordlist))\n",
        "\n",
        "# Takes lines of text extracted from txt file and translates them, \n",
        "# outputs translated version into a txt file called \"translated.txt\" \n",
        "# and an image file with the translated text called Capture.JPG.\n",
        "def translate_text(image_path, imagename, language, fontChoice, fontColorChoice):\n",
        "    # sets target language and input language for translator\n",
        "    choice = 0\n",
        "    if language == '1':\n",
        "        choice = \"zh\"\n",
        "    elif language == '2':\n",
        "        choice = 'de'\n",
        "    elif language == '3':\n",
        "        choice = 'hu'\n",
        "    elif language == '4':\n",
        "        choice = 'es'\n",
        "    elif language == '5':\n",
        "        choice = 'fr'\n",
        "    translator = Translator(to_lang=\"en\", from_lang=choice)\n",
        "\n",
        "    # opens the OCR output file and reads each line into contents\n",
        "    with open(image_path + '/script.txt', encoding='utf-8') as f:\n",
        "        contents = f.readlines()\n",
        "\n",
        "    # sets the dimensions and background color for the new image object\n",
        "    oldimg = Image.open(image_path + \"/\" + imagename)  \n",
        "    # Grab the size of the input image\n",
        "    # Later we can choose a font size depending on input image size\n",
        "    width, height = oldimg.size\n",
        "    # enlarge the output image so text does not need to be tiny (for small input files)\n",
        "    # width *= 2\n",
        "    # height *= 2\n",
        "\n",
        "    # Grab a color sample, to reproduce the background in the output image\n",
        "    # The code obtains an rgb tuple at position (x,y) \n",
        "    background = oldimg.getpixel((5, 5))    # grabs pixel from upper left corner\n",
        "    \n",
        "    newimg  = Image.new( mode = \"RGB\", size = (width, height), color = background )\n",
        "\n",
        "    # Generates a txt file and JPG image file from the translated txt file\n",
        "    with open(image_path + '/translated.txt', 'a') as n:  # the 'a' argument means append\n",
        "        movedown = 20   # variable to help draw multiple text lines to image. This is initial verticle position\n",
        "\n",
        "        #sets font choice for output file\n",
        "        if fontChoice == '1':\n",
        "            customfont = \"arial.ttf\"\n",
        "        elif fontChoice == '2':\n",
        "            customfont = \"Times New Roman.ttf\"\n",
        "        elif fontChoice == '3':\n",
        "            customfont =\"Comic Sans MS.ttf\"\n",
        "\n",
        "        # sets font color for output file\n",
        "        if fontColorChoice == '1': #sets color to black\n",
        "            customfill = (0, 0, 0)\n",
        "        elif fontColorChoice == '2': #sets color to red\n",
        "            customfill = (255,0,0)\n",
        "        elif fontColorChoice == '3': #sets color to blue\n",
        "            customfill = (0,0,255)\n",
        "        elif fontColorChoice == '4': #sets color to pink\n",
        "            customfill = (255, 192, 203)\n",
        "\n",
        "        for line in contents:   # iterates thru each line of text in \"contents\"\n",
        "            n.writelines(translator.translate(line) + \"\\n\") # translate each line and write to file\n",
        "            draw = ImageDraw.Draw(newimg)\n",
        "            font = ImageFont.truetype(customfont, round(width/19.3333333)) # font size 18 should be scaled for image size \n",
        "            # In the next line, first 2 numbers are pixels to right and down of upper corner\n",
        "            draw.text((5, movedown), translator.translate(line), fill=customfill, font=font) \n",
        "            movedown += round(height/9.52)\n",
        "        newimg.save(\"Capture.JPG\")\n",
        "\n",
        "# Change the translator provider \n",
        "# Default is mymemory but it limits the number of translations per day.\n",
        "# Template code to change provider:\n",
        "# secret = '<your secret from Microsoft or DeepL>'\n",
        "# translator = Translator(provider='<the name of the provider, eg. microsoft or deepl>', to_lang=to_lang, secret_access_key=secret)\n",
        "\n",
        "# FUNCTIONS FOR TEST SUITE\n",
        "\n",
        "# Analyses and outputs test results\n",
        "def test_suite(path,filename,language):\n",
        "    Test1=text_exist(path,filename,language)\n",
        "    Test2=ocr_work()\n",
        "    Test3=directory_valid(path)\n",
        "    Test4=file_exist(filename)\n",
        "    Test5=path_exist(path)\n",
        "    Test6=textg1(path,filename,language)\n",
        "    if Test1 == True:\n",
        "       print(\"Test 1:Passed!\")\n",
        "    else:\n",
        "       print(\"Test 1:Failed!\")\n",
        "    if Test2 == True:\n",
        "       print(\"Test 2:Passed!\")\n",
        "    else:\n",
        "       print(\"Test 2:Failed!\")\n",
        "    if Test3 == True:\n",
        "       print(\"Test 3:Passed!\")\n",
        "    else:\n",
        "       print(\"Test 3:Failed!\")\n",
        "    if Test4 == True:\n",
        "       print(\"Test 4:Passed!\")\n",
        "    else:\n",
        "       print(\"Test 4:Failed!\")\n",
        "    if Test5 == True:\n",
        "       print(\"Test 5:Passed!\")\n",
        "    else:\n",
        "       print(\"Test 5:Failed!\")\n",
        "    if Test6 == True:\n",
        "       print(\"Test 6:Passed!\")\n",
        "    else:\n",
        "      print(\"Test 6:Failed!\")\n",
        "\n",
        "# This test uses ocr_path to check if text exists in this image\n",
        "def text_exist(path,filename,language):\n",
        "    test=True\n",
        "    text = ocr_core(path + \"/\" + filename, language)\n",
        "    if text.isspace():\n",
        "        test = False\n",
        "    return test\n",
        "\n",
        "# This test checks the very basics of whether ocr can read a singular word for yes\n",
        "# in French\n",
        "def ocr_work():\n",
        "    frantext=ocr_core(\"/content/fyes.png\", '5')\n",
        "    if len(frantext) == 6:\n",
        "        return True\n",
        "    else:\n",
        "        return False\n",
        "\n",
        "#This test checks if directory is still valid\n",
        "def directory_valid(path):\n",
        "    valid = os.path.isdir(path)\n",
        "    return valid\n",
        "\n",
        "#This checks if file is still valid\n",
        "def file_exist(userfile):\n",
        "    valid = os.path.exists(userfile)\n",
        "    return valid\n",
        "\n",
        "#This checks if path is still valid\n",
        "def path_exist(path):\n",
        "    valid = os.path.exists(path)\n",
        "    return valid\n",
        "\n",
        "#This checks if the text read from ocr has more than one character\n",
        "def textg1(path,filename,language):\n",
        "    text = ocr_core(path + \"/\" + filename, language)\n",
        "    if len(text) > 1:\n",
        "        return True\n",
        "    else:\n",
        "        return False\n",
        "\n",
        "# Function for interacting with user and calling OCR, translate, and test methods\n",
        "def run():\n",
        "    # Obtain input path and file name from the user and check if valid\n",
        "    error = 0\n",
        "    while error == 0:\n",
        "        path = input('file path: ')\n",
        "        userfile = input('file name: ')\n",
        "\n",
        "        #OS library methods that check if the user-entered file path and a file exist\n",
        "        isPathExist = os.path.exists(path)\n",
        "        isUserFileExist = os.path.exists(userfile)\n",
        "        directoryValid = os.path.isdir(path) # if we check path, why also check directory?\n",
        "\n",
        "        # Output error messages for bad user input for file path and file name\n",
        "        #checks if directory is valid. \n",
        "        if(directoryValid == False):\n",
        "            print(\"Error: invalid directory\")\n",
        "        #checks for filepath validity\n",
        "        if(isPathExist == False ):\n",
        "            print(\"Error: invalid file path\")\n",
        "        #checks for file existance\n",
        "        elif(isUserFileExist == False):\n",
        "            print(\"Error: invalid File\")\n",
        "        else:\n",
        "            error = 1\n",
        "\n",
        "    # Obtain language choice and check if valid\n",
        "    print(\"\\nYou have 5 choices for input language. \\nEnter 1 for Chinese, 2 for German, 3 for Hungarian, 4 for Spanish, or 5 for French.\")\n",
        "    error = 0\n",
        "    while error ==0:\n",
        "        inlanguage = input('Your language choice: ')\n",
        "        if(inlanguage.isnumeric() == True and (int(inlanguage)==1 or int(inlanguage) ==2 or int(inlanguage)==3 or int(inlanguage) ==4 or int(inlanguage) ==5 )):\n",
        "            error = 1\n",
        "        else:\n",
        "            print(\"Please enter a valid number (1 - 5).\")\n",
        "    \n",
        "    # Obtain font style for output image and check if valid entry\n",
        "    print(\"\\nYou have 3 choices for output font. \\nEnter 1 for Arial, 2 for Times New Roman , 3 for Comic Sans.\")\n",
        "    error = 0\n",
        "    while error == 0: \n",
        "        fontChoice  = input('Your font choice:  ') \n",
        "        if fontChoice == '1' or fontChoice == '2' or fontChoice== '3':\n",
        "            error = 1\n",
        "        else:\n",
        "            print(\"Invalid entry. Please enter a valid number, 1 - 3.\")\n",
        "\n",
        "    # Obtain font color choice from user and check if input is valid              \n",
        "    print(\"\\nYou have 4 choices for output font color. \\nEnter 1 for black, 2 for red, 3 for blue, or 4 for pink.\")\n",
        "    error = 0\n",
        "    while error == 0:\n",
        "        fontColorChoice = input('Your font color choice: ')\n",
        "        if fontColorChoice == '1'  or fontColorChoice == '2' or fontColorChoice == '3' or fontColorChoice == '4':\n",
        "            error = 1\n",
        "        else:\n",
        "            print(\"Invalid entry. Please enter a valid number, 1 - 4.\")\n",
        "\n",
        "    # Perform OCR on the input image file and let user know when finished this step\n",
        "    # Give user a choice to test the software\n",
        "    print(\"\\nDo you want to use the software normally, or test it with a test suite?\")\n",
        "    print(\"Enter 1 to use normally, enter 2 to test software function.\")\n",
        "    error = 0\n",
        "    while error == 0:\n",
        "        choice =input(\"Your choice: \")\n",
        "        print('\\n')\n",
        "        if choice == '1' or '2':\n",
        "            error = 1\n",
        "        else:\n",
        "            print(\"Please enter a valid entry: 1 or 2.\\n\")\n",
        "    if choice =='2':\n",
        "        test_suite(path,userfile,inlanguage)\n",
        "    elif choice == '1':\n",
        "        print(\"******Starting******\")\n",
        "        text = ocr_core(path + \"/\" + userfile, inlanguage)\n",
        "        writefile(path, text)\n",
        "        print(\"OCR of image \" + userfile + \" is done.\")\n",
        "\n",
        "        # Perform the translation step\n",
        "        print(\"Now performing the translation.\")\n",
        "        print(\"The bigger your file, the longer the wait...\")\n",
        "        translate_text(path, userfile, inlanguage, fontChoice, fontColorChoice)\n",
        "\n",
        "        print(\"~~~~~~Finished~~~~~~\")\n",
        "\n",
        "run()\n",
        "\n"
      ],
      "execution_count": 17,
      "outputs": [
        {
          "output_type": "stream",
          "name": "stdout",
          "text": [
            "file path: ./badpath\n",
            "file name: ChineseNot.jpg\n",
            "Error: invalid directory\n",
            "Error: invalid file path\n",
            "file path: ./\n",
            "file name: badfile.jpg\n",
            "Error: invalid File\n",
            "file path: ./\n",
            "file name: ChineseSmall5.png\n",
            "\n",
            "You have 5 choices for input language. \n",
            "Enter 1 for Chinese, 2 for German, 3 for Hungarian, 4 for Spanish, or 5 for French.\n",
            "Your language choice: 7\n",
            "Please enter a valid number (1 - 5).\n",
            "Your language choice: 1\n",
            "\n",
            "You have 3 choices for output font. \n",
            "Enter 1 for Arial, 2 for Times New Roman , 3 for Comic Sans.\n",
            "Your font choice:  8\n",
            "Invalid entry. Please enter a valid number, 1 - 3.\n",
            "Your font choice:  2\n",
            "\n",
            "You have 4 choices for output font color. \n",
            "Enter 1 for black, 2 for red, 3 for blue, or 4 for pink.\n",
            "Your font color choice: 0\n",
            "Invalid entry. Please enter a valid number, 1 - 4.\n",
            "Your font color choice: 2\n",
            "\n",
            "Do you want to use the software normally, or test it with a test suite?\n",
            "Enter 1 to use normally, enter 2 to test software function.\n",
            "Your choice: 1\n",
            "\n",
            "\n",
            "******Starting******\n",
            "OCR of image ChineseSmall5.png is done.\n",
            "Now performing the translation.\n",
            "The bigger your file, the longer the wait...\n",
            "~~~~~~Finished~~~~~~\n"
          ]
        }
      ]
    },
    {
      "cell_type": "markdown",
      "metadata": {
        "id": "KH0YsUO4Wvd3"
      },
      "source": [
        "The code above generates two text files and an image file. The script.txt file shows the original language, and translated.txt and Capture.JPG show the translation. To see these in the Files pane on the left, you may need to click the folder icon with round arrow (to refresh the pane). If you double-click a file name in the Files panel, it will open in a pane on the right. You can also run the next block for a quick peek at the generated .txt files."
      ]
    },
    {
      "cell_type": "code",
      "metadata": {
        "id": "-p5r4e0hXZ_3"
      },
      "source": [
        "# See at least a part of each of the .txt files that are generated\n",
        "!echo \"The original:\"\n",
        "!head script.txt\n",
        "!echo \"...\"\n",
        "!echo \"The translation:\"\n",
        "!head translated.txt\n",
        "!echo \"...\""
      ],
      "execution_count": null,
      "outputs": []
    },
    {
      "cell_type": "markdown",
      "metadata": {
        "id": "gdKLjN_aw_44"
      },
      "source": [
        "You can see the output image file by running the next code block. The Capture.JPG file will be over-written the next time the translate_text method is run, so change the file name if you want to save it (or you can download the file: hover over the file name in the Files pane, and the three vertical dots give you the option to download)."
      ]
    },
    {
      "cell_type": "code",
      "metadata": {
        "id": "t9aGwqls0cfa",
        "colab": {
          "base_uri": "https://localhost:8080/",
          "height": 126
        },
        "outputId": "77f40fad-8531-4421-c0a9-780ea0ce3d73"
      },
      "source": [
        "# See the image file:\n",
        "from IPython.display import Image as DispImage # in case previous DispImage block was not run\n",
        "\n",
        "DispImage (\"Capture.JPG\")"
      ],
      "execution_count": 18,
      "outputs": [
        {
          "output_type": "execute_result",
          "data": {
            "image/jpeg": "[encoded data removed]",
            "text/plain": [
              "<IPython.core.display.Image object>"
            ]
          },
          "metadata": {},
          "execution_count": 18
        }
      ]
    },
    {
      "cell_type": "markdown",
      "metadata": {
        "id": "RRnhNrHvw2KQ"
      },
      "source": [
        "You need to remove the text files, because otherwise text will be appended to them when the writefile and translate_text methods are next run."
      ]
    },
    {
      "cell_type": "code",
      "metadata": {
        "id": "qV4Mlyvca2fN"
      },
      "source": [
        "# remove the two text files for another round of playing\n",
        "! rm script.txt\n",
        "! rm translated.txt"
      ],
      "execution_count": 19,
      "outputs": []
    }
  ]
}