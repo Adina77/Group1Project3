{
  "nbformat": 4,
  "nbformat_minor": 0,
  "metadata": {
    "colab": {
      "name": "Project3-ImageTextTranslator.ipynb",
      "provenance": [],
      "collapsed_sections": [],
      "include_colab_link": true
    },
    "kernelspec": {
      "display_name": "Python 3",
      "name": "python3"
    },
    "language_info": {
      "name": "python"
    }
  },
  "cells": [
    {
      "cell_type": "markdown",
      "metadata": {
        "id": "view-in-github",
        "colab_type": "text"
      },
      "source": [
        "<a href=\"https://colab.research.google.com/github/solisti/Group1Project3/blob/experimental/Project3_ImageTextTranslator.ipynb\" target=\"_parent\"><img src=\"https://colab.research.google.com/assets/colab-badge.svg\" alt=\"Open In Colab\"/></a>"
      ]
    },
    {
      "cell_type": "markdown",
      "metadata": {
        "id": "i_0XGDGrTSA7"
      },
      "source": [
        "# Image Text Translator\n",
        "Click the \"Open in Colab\" link to open this Jupyter Notebook in Google Colab. In Google Colab, click on the file icon (with up arrow) in the Files pane on the left to upload an image file and a font file. By default, files are placed in /contents, which is also the default working directory. Refresh the Files pane by clicking the folder icon with round arrow."
      ]
    },
    {
      "cell_type": "code",
      "metadata": {
        "id": "XeOwYOCzUJqn"
      },
      "source": [
        "# Run this block to install pytesseract and translate (Python libraries)\n",
        "# and tesseract-ocr (from Ubuntu repo), which are not installed\n",
        "# in Google's Ubuntu vm. Need to re-run the block if session times out \n",
        "# after period of un-use. But the installs are fast.\n",
        "\n",
        "# The following will show whether or not pytesseract is installed.\n",
        "# It just prints 0 if installed, or else an error message.\n",
        "# ! python -c \"import pytesseract\"\n",
        "# ! echo $?\n",
        "\n",
        "# PIL is already installed in Google's Ubuntu vm (Bionic, 18.0.4)\n",
        "# ! python -c \"import PIL\"\n",
        "# ! echo $?\n",
        "\n",
        "# In newer Debian and Ubuntu repos the default is now Pillow.\n",
        "# To install on your own Debian/Ubuntu system: \n",
        "# apt install python3-pil and\n",
        "# apt install python3-pil.imgagetk (that installs Pillow now). May not need pil.imagetk.\n",
        "\n",
        "# PIL (Pillow) tutorial: https://pillow.readthedocs.io/en/stable/handbook/tutorial.html\n",
        "\n",
        "# next istall is documented here: https://pypi.org/project/pytesseract/\n",
        "! pip install pytesseract\n",
        "\n",
        "# next install is documented here: https://pypi.org/project/translate/\n",
        "! pip install translate\n",
        "\n",
        "# next install is documented here: https://tesseract-ocr.github.io/tessdoc/Home.html\n",
        "# This is not a Python library (can't insall with pip or conda).\n",
        "! apt install tesseract-ocr\n"
      ],
      "execution_count": null,
      "outputs": []
    },
    {
      "cell_type": "code",
      "metadata": {
        "id": "Qj9ddXGaoQOP",
        "colab": {
          "base_uri": "https://localhost:8080/"
        },
        "outputId": "bdeeb907-06a2-40d5-aa18-61ce231c4db0"
      },
      "source": [
        "# This shows that tesseract is installed (and its location)\n",
        "! which tesseract"
      ],
      "execution_count": null,
      "outputs": [
        {
          "output_type": "stream",
          "name": "stdout",
          "text": [
            "/usr/bin/tesseract\n"
          ]
        }
      ]
    },
    {
      "cell_type": "code",
      "metadata": {
        "id": "dFWitT9AUgm5"
      },
      "source": [
        "# Install the desired languages for tesseract-ocr:\n",
        "# Add (or comment out) languages as desired.\n",
        "# The 3-letter language codes (and language files if needed) can be found here: \n",
        "# https://tesseract-ocr.github.io/tessdoc/Data-Files.html\n",
        "\n",
        "# simplified Chinese\n",
        "! apt install tesseract-ocr-chi-sim\n",
        "\n",
        "# Hungarian\n",
        "! apt install tesseract-ocr-hun\n",
        "\n",
        "# German\n",
        "# ! apt install tesseract-ocr-deu"
      ],
      "execution_count": null,
      "outputs": []
    },
    {
      "cell_type": "code",
      "metadata": {
        "id": "hGvSkuddh9QT",
        "colab": {
          "base_uri": "https://localhost:8080/"
        },
        "outputId": "fb62a48c-3757-4ef9-899d-1fb18c96f858"
      },
      "source": [
        "# check which languages are installed:\n",
        "! tesseract --list-langs"
      ],
      "execution_count": null,
      "outputs": [
        {
          "output_type": "stream",
          "name": "stdout",
          "text": [
            "List of available languages (4):\n",
            "hun\n",
            "eng\n",
            "osd\n",
            "chi_sim\n"
          ]
        }
      ]
    },
    {
      "cell_type": "code",
      "metadata": {
        "id": "lRLKBQj15TFW"
      },
      "source": [
        "# maybe helpful to print working directory and contents. \n",
        "# By default the working directory is /content, and uploaded files by default are placed there.\n",
        "# You can also see the uploaded files in the Files pane on the left (may need to click the\n",
        "# folder refresh icon).\n",
        "! pwd\n",
        "! ls"
      ],
      "execution_count": null,
      "outputs": []
    },
    {
      "cell_type": "code",
      "metadata": {
        "id": "n3m0KP2qpsSy",
        "colab": {
          "base_uri": "https://localhost:8080/",
          "height": 255
        },
        "outputId": "94568b71-db27-43e7-8023-6f5981f8586f"
      },
      "source": [
        "# Run this block to display an image file\n",
        "from IPython.display import Image as DispImage\n",
        "\n",
        "# To display an image file that is in the working directory:\n",
        "# DispImage(\"ImageName.jpg\")\n",
        "DispImage (\"Chinese1.png\")"
      ],
      "execution_count": 149,
      "outputs": [
        {
          "output_type": "execute_result",
          "data": {
            "image/png": "[encoded data removed]",
            "text/plain": [
              "<IPython.core.display.Image object>"
            ]
          },
          "metadata": {},
          "execution_count": 149
        }
      ]
    },
    {
      "cell_type": "markdown",
      "metadata": {
        "id": "thwjBz7R_RO6"
      },
      "source": [
        "The following is the Image Text Tranlsator code block. It is also availabe as the imgtl.py file, which can be run on your local machine with python3. The program will ask you for a file path to your image file. Ideally this will be your working directory, and if so type:\n",
        "\n",
        "./"
      ]
    },
    {
      "cell_type": "code",
      "metadata": {
        "id": "eUq0wXPqlrzu",
        "colab": {
          "base_uri": "https://localhost:8080/"
        },
        "outputId": "9ba39ae3-cbcd-47fe-868b-13b56174d26c"
      },
      "source": [
        "from PIL import Image\n",
        "import pytesseract\n",
        "from translate import Translator\n",
        "from PIL import ImageFont, ImageDraw, Image\n",
        "\n",
        "# The next line may not be needed. It is needed if tesseract is not in your PATH\n",
        "# (Check path for tesseract and modify the line below if needed)\n",
        "pytesseract.pytesseract.tesseract_cmd = r'/usr/bin/tesseract'\n",
        "\n",
        "# This function handles the core OCR processing of the input image.\n",
        "def ocr_core(filename, language):\n",
        "    choice = 0\n",
        "    if language == '1':\n",
        "        choice = 'chi_sim'\n",
        "    elif language == '2':\n",
        "        choice = 'deu'\n",
        "    elif language == '3':\n",
        "        choice = 'hun'\n",
        "    \n",
        "    text = pytesseract.image_to_string(Image.open(filename), lang=choice)\n",
        "    return text\n",
        "\n",
        "# Writes text extracted from image into a txt file named \"script.txt\"\n",
        "# which is saved in the same path as the input image file\n",
        "def writefile(image_path, strstr):\n",
        "\twordlist = strstr.split()\n",
        "\twith open(image_path + '/script.txt', 'a') as f:   \n",
        "\t\tf.writelines(\"\\r\".join(wordlist))\n",
        "\n",
        "# Takes lines of text extracted from txt file and translates them, \n",
        "# outputs translated version into a txt file called \"translated.txt\" \n",
        "# and an image file with the translated text called Capture.JPG.\n",
        "def translate_text(image_path, imagename, language):\n",
        "    # sets target language and input language for translator\n",
        "    choice = 0\n",
        "    if language == '1':\n",
        "        choice = \"zh\"\n",
        "    elif language == '2':\n",
        "        choice = 'de'\n",
        "    elif language == '3':\n",
        "        choice = 'hu'\n",
        "    translator = Translator(to_lang=\"en\", from_lang=choice)\n",
        "\n",
        "    # opens the OCR output file and reads each line into contents\n",
        "    with open(image_path + '/script.txt', encoding='utf-8') as f:\n",
        "        contents = f.readlines()\n",
        "\n",
        "    # sets the dimensions and background color for the new image object\n",
        "    oldimg = Image.open(image_path + \"/\" + imagename)  \n",
        "    # Grab the size of the input image\n",
        "    # Later we can choose a font size depending on input image size\n",
        "    width, height = oldimg.size\n",
        "    # enlarge the output image so text does not need to be tiny (for small input files)\n",
        "    # width *= 2\n",
        "    # height *= 2\n",
        "\n",
        "    # Grab a color sample, to reproduce the background in the output image\n",
        "    # The code obtains an rgb tuple at position (x,y) \n",
        "    background = oldimg.getpixel((5, 5))    # grabs pixel from upper left corner\n",
        "    \n",
        "    newimg  = Image.new( mode = \"RGB\", size = (width, height), color = background )\n",
        "\n",
        "    # Generates a txt file and JPG image file from the translated txt file\n",
        "    with open(image_path + '/translated.txt', 'a') as n:\n",
        "        for line in contents:   # iterates thru each line of text in \"contents\"\n",
        "            n.writelines(translator.translate(line) + \"\\n\") # translate each line and write to file\n",
        "            draw = ImageDraw.Draw(newimg)\n",
        "            font = ImageFont.truetype(\"arial.ttf\", 20) # font size 15 should be scaled for image size \n",
        "            # In the next line, first 2 numbers are pixels to right and down of upper corner\n",
        "            draw.text((0, 28), translator.translate(line), fill=(0,0,0), font=font)\n",
        "        newimg.save(\"Capture.JPG\")\n",
        "        newimg.show()  # I don't think this works\n",
        "\n",
        "# Change the translator provider \n",
        "# Default is mymemory but it limits the number of translations per day.\n",
        "# Template code to change provider:\n",
        "# secret = '<your secret from Microsoft or DeepL>'\n",
        "# translator = Translator(provider='<the name of the provider, eg. microsoft or deepl>', to_lang=to_lang, secret_access_key=secret)\n",
        "\n",
        "# Obtain input path and file name from the user\n",
        "path = input('file path: ')\n",
        "userfile = input('file name: ')\n",
        "\n",
        "print(\"You have 3 choices for input language. Eneter 1 for Chinese, 2 for German, or 3 for Hungarian.\")\n",
        "inlanguage = input('Your choice: ')\n",
        "print('\\n')\n",
        "\n",
        "print(\"******Starting******\")\n",
        "\n",
        "# Perform OCR on the input image file and let user know when finished this step\n",
        "text = ocr_core(path + \"/\" + userfile, inlanguage)\n",
        "writefile(path, text)\n",
        "print(\"OCR of image \" + userfile + \" is done.\")\n",
        "\n",
        "# Perform the translation step\n",
        "print(\"Now performing the translation.\")\n",
        "translate_text(path, userfile, inlanguage)\n",
        "\n",
        "print(\"~~~~~~Finished~~~~~~\")\n"
      ],
      "execution_count": 146,
      "outputs": [
        {
          "output_type": "stream",
          "name": "stdout",
          "text": [
            "file path: ./\n",
            "file name: Chinese1.png\n",
            "You have 3 choices for input language. Eneter 1 for Chinese, 2 for German, or 3 for Hungarian.\n",
            "Your choice: 1\n",
            "\n",
            "\n",
            "******Starting******\n",
            "OCR of image Chinese1.png is done.\n",
            "Now performing the translation.\n",
            "~~~~~~Finished~~~~~~\n"
          ]
        }
      ]
    },
    {
      "cell_type": "markdown",
      "metadata": {
        "id": "KH0YsUO4Wvd3"
      },
      "source": [
        "The code above generates two text files and an image file. The script.txt file shows the original language, and translated.txt and Capture.JPG show the translation. To see these in the Files pane on the left, you may need to click the folder icon with round arrow (to refresh the pane). If you double-click a file name in the Files panel, it will open in a pane on the right. You can also run the next block for a quick peek at the generated .txt files."
      ]
    },
    {
      "cell_type": "code",
      "metadata": {
        "id": "-p5r4e0hXZ_3",
        "colab": {
          "base_uri": "https://localhost:8080/"
        },
        "outputId": "81a114f4-3882-4902-bd51-608aacedb055"
      },
      "source": [
        "# See at least a part of each of the .txt files that are generated\n",
        "!echo \"The original:\"\n",
        "!head script.txt\n",
        "!echo \"...\"\n",
        "!echo \"The translation:\"\n",
        "!head translated.txt\n",
        "!echo \"...\""
      ],
      "execution_count": 147,
      "outputs": [
        {
          "output_type": "stream",
          "name": "stdout",
          "text": [
            "The original:\n",
            "举头望明月...\n",
            "The translation:\n",
            "I look up to the mountain moon\n",
            "...\n"
          ]
        }
      ]
    },
    {
      "cell_type": "markdown",
      "metadata": {
        "id": "gdKLjN_aw_44"
      },
      "source": [
        "You can see the output image file by running the next code block. The Capture.JPG file will be over-written the next time the translate_text method is run, so change the file name if you want to save it (or you can download the file: hover over the file name in the Files pane, and the three vertical dots give you the option to download)."
      ]
    },
    {
      "cell_type": "code",
      "metadata": {
        "id": "t9aGwqls0cfa",
        "colab": {
          "base_uri": "https://localhost:8080/",
          "height": 255
        },
        "outputId": "def90113-608c-4226-a77b-b13212ad9e8e"
      },
      "source": [
        "# See the image file:\n",
        "DispImage (\"Capture.JPG\")"
      ],
      "execution_count": 148,
      "outputs": [
        {
          "output_type": "execute_result",
          "data": {
            "image/jpeg": "[encoded data removed]",
            "text/plain": [
              "<IPython.core.display.Image object>"
            ]
          },
          "metadata": {},
          "execution_count": 148
        }
      ]
    },
    {
      "cell_type": "markdown",
      "metadata": {
        "id": "RRnhNrHvw2KQ"
      },
      "source": [
        "You need to remove the text files, because otherwise text will be appended to them when the writefile and translate_text methods are next run."
      ]
    },
    {
      "cell_type": "code",
      "metadata": {
        "id": "qV4Mlyvca2fN"
      },
      "source": [
        "# remove the two text files for another round of playing\n",
        "! rm script.txt\n",
        "! rm translated.txt"
      ],
      "execution_count": 144,
      "outputs": []
    }
  ]
}