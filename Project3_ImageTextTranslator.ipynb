{
  "nbformat": 4,
  "nbformat_minor": 0,
  "metadata": {
    "colab": {
      "name": "Copy of Project3-ImageTextTranslator.ipynb",
      "provenance": [],
      "collapsed_sections": [],
      "include_colab_link": true
    },
    "kernelspec": {
      "display_name": "Python 3",
      "name": "python3"
    },
    "language_info": {
      "name": "python"
    }
  },
  "cells": [
    {
      "cell_type": "markdown",
      "metadata": {
        "id": "view-in-github",
        "colab_type": "text"
      },
      "source": [
        "<a href=\"https://colab.research.google.com/github/solisti/Group1Project3/blob/main/Project3_ImageTextTranslator.ipynb\" target=\"_parent\"><img src=\"https://colab.research.google.com/assets/colab-badge.svg\" alt=\"Open In Colab\"/></a>"
      ]
    },
    {
      "cell_type": "markdown",
      "metadata": {
        "id": "i_0XGDGrTSA7"
      },
      "source": [
        "# Image Text Translator\n",
        "Click the \"Open in Colab\" link to open this Jupyter Notebook in Google Colab. In Google Colab, click on the file icon (with up arrow) in the Files pane on the left to upload an image file and a font file. By default, files are placed in /contents, which is also the default working directory. Refresh the Files pane by clicking the folder icon with round arrow."
      ]
    },
    {
      "cell_type": "code",
      "metadata": {
        "id": "XeOwYOCzUJqn"
      },
      "source": [
        "# Run this block to install pytesseract and translate (Python libraries)\n",
        "# and tesseract-ocr (from Ubuntu repo), which are not installed\n",
        "# in Google's Ubuntu vm. Need to re-run the block if session times out \n",
        "# after period of un-use. But the installs are fast.\n",
        "\n",
        "# The following will show whether or not pytesseract is installed.\n",
        "# It just prints 0 if installed, or else an error message.\n",
        "# ! python -c \"import pytesseract\"\n",
        "# ! echo $?\n",
        "\n",
        "# PIL (rather than Pillow)is already installed in Google's Ubuntu vm (Bionic, 18.0.4)\n",
        "# ! python -c \"import PIL\"\n",
        "# ! echo $?\n",
        "\n",
        "# But when I installed from Ubuntu repo for my own system (Focal, 20.0.4) the default was Pillow.\n",
        "# So Ubuntu changed the default from PIL to Pillow in newer versions of the distro.\n",
        "# To install on your own Debian/Ubuntu system: apt install python3-pil (that installs Pillow now).\n",
        "# PIL (Pillow) tutorial: https://pillow.readthedocs.io/en/stable/handbook/tutorial.html\n",
        "\n",
        "# next istall is documented here: https://pypi.org/project/pytesseract/\n",
        "! pip install pytesseract\n",
        "\n",
        "# next install is documented here: https://pypi.org/project/translate/\n",
        "! pip install translate\n",
        "\n",
        "# next install is documented here: https://tesseract-ocr.github.io/tessdoc/Home.html\n",
        "# This is not a Python library (can't insall with pip or conda).\n",
        "# Right now (Oct 2021) apt for Google Colab vm is fetching from Ubuntu Bionic repo:\n",
        "! apt install tesseract-ocr\n"
      ],
      "execution_count": null,
      "outputs": []
    },
    {
      "cell_type": "code",
      "metadata": {
        "id": "Qj9ddXGaoQOP"
      },
      "source": [
        "# This shows that tesseract is installed (and its location)\n",
        "! which tesseract"
      ],
      "execution_count": null,
      "outputs": []
    },
    {
      "cell_type": "code",
      "metadata": {
        "id": "dFWitT9AUgm5"
      },
      "source": [
        "# install the desired languages for tesseract-ocr\n",
        "# Add (or comment out) languages as desired.\n",
        "# The 3-letter language codes (and language files if needed) can be found here: \n",
        "# https://tesseract-ocr.github.io/tessdoc/Data-Files.html\n",
        "\n",
        "# simplified Chinese\n",
        "! apt install tesseract-ocr-chi-sim\n",
        "\n",
        "# Hungarian\n",
        "! apt install tesseract-ocr-hun\n",
        "\n",
        "# German\n",
        "! apt install tesseract-ocr-deu"
      ],
      "execution_count": null,
      "outputs": []
    },
    {
      "cell_type": "code",
      "metadata": {
        "id": "hGvSkuddh9QT"
      },
      "source": [
        "# check which languages are installed:\n",
        "! tesseract --list-langs"
      ],
      "execution_count": null,
      "outputs": []
    },
    {
      "cell_type": "code",
      "metadata": {
        "id": "lRLKBQj15TFW"
      },
      "source": [
        "# maybe helpful to print working directory and contents. \n",
        "# By default the working directory is /content, and uploaded files by default are placed there.\n",
        "# You can also see the uploaded files in the Files pane on the left (may need to click the\n",
        "# folder refresh icon).\n",
        "! pwd\n",
        "! ls"
      ],
      "execution_count": null,
      "outputs": []
    },
    {
      "cell_type": "code",
      "metadata": {
        "id": "n3m0KP2qpsSy"
      },
      "source": [
        "# Run this block to display an image file\n",
        "from IPython.display import Image as DispImage\n",
        "\n",
        "# To display image that is in the working directory:\n",
        "# DispImage(\"ImageName.jpg\")\n",
        "DispImage (\"1.png\")"
      ],
      "execution_count": null,
      "outputs": []
    },
    {
      "cell_type": "code",
      "metadata": {
        "id": "eUq0wXPqlrzu"
      },
      "source": [
        "# Code from Alice, updated\n",
        "\n",
        "from PIL import Image\n",
        "import pytesseract\n",
        "from translate import Translator\n",
        "from PIL import ImageFont, ImageDraw, Image\n",
        "\n",
        "# The next line may not be needed. It is needed if tesseract is not in PATH\n",
        "# (Check path for tesseract and modify the code if needed)\n",
        "pytesseract.pytesseract.tesseract_cmd = r'/usr/bin/tesseract'\n",
        "\n",
        "def ocr_core(filename):\n",
        "    \"\"\"\n",
        "    This function will handle the core OCR processing of images.\n",
        "    \"\"\"\n",
        "    text = pytesseract.image_to_string(Image.open(filename), lang='chi_sim')\n",
        "    return text\n",
        "\n",
        "#writes text extracted from image into a txt file named \"script.txt\"\n",
        "def writefile(image_path, strstr):\n",
        "\twordlist = strstr.split()\n",
        "\twith open(image_path + '/script.txt', 'a') as f:\n",
        "\t\tf.writelines(\"\\r\".join(wordlist))\n",
        "\n",
        "\n",
        "#takes text extracted from txt file and translates them, outputs translated \n",
        "# version into a txt file called \"translated.txt\"\n",
        "def translate_text(image_path):\n",
        "    translator = Translator(to_lang=\"en\", from_lang=\"zh\")\n",
        "    width = 1000\n",
        "    height = 1000\n",
        "    im  = Image.new( mode = \"RGB\", size = (width, height), color = (255, 255, 255) )\n",
        "\n",
        "    with open(image_path + '/script.txt', encoding='utf-8') as f:\n",
        "        contents = f.readlines()\n",
        "\n",
        "    with open(image_path + '/translated.txt', 'a') as n:\n",
        "        for line in contents:\n",
        "            n.writelines(translator.translate(line) + \"\\n\")\n",
        "            draw = ImageDraw.Draw(im)\n",
        "            font = ImageFont.truetype(\"arial.ttf\", 15)\n",
        "            for i in range(9):\n",
        "                draw.text((10, i*14), translator.translate(line), fill=(0,0,0,0), font=font)\n",
        "        im.save(\"Capture.JPG\");\n",
        "        im.show();\n",
        "\n",
        "path = input('file path: ')\n",
        "nums = input('# of files: ')\n",
        "\n",
        "print(\"******starting******\")\n",
        "\n",
        "for n in range(1, int(nums)+1):\n",
        "    text = ocr_core(path + \"/\" + str(n) + \".png\")\n",
        "    writefile(path, text)\n",
        "    print(\"image \" + str(n) + \" is done\")\n",
        "\n",
        "print(\"~~~~~finished~~~~~\")\n",
        "\n",
        "translate_text(path)"
      ],
      "execution_count": null,
      "outputs": []
    },
    {
      "cell_type": "markdown",
      "metadata": {
        "id": "KH0YsUO4Wvd3"
      },
      "source": [
        "The code above generates two text files and an image file. The script.txt file shows the original language, and translated.txt and Capture.JPG show the translation. To see these in the Files panel on the left, click the folder icon with round arrow (to refresh)."
      ]
    },
    {
      "cell_type": "code",
      "metadata": {
        "id": "-p5r4e0hXZ_3"
      },
      "source": [
        "# See at least a part of each of the .txt files that are generated\n",
        "!echo \"The original:\"\n",
        "!head script.txt\n",
        "!echo \"...\"\n",
        "!echo \"The translation:\"\n",
        "!head translated.txt\n",
        "!echo \"...\"\n"
      ],
      "execution_count": null,
      "outputs": []
    },
    {
      "cell_type": "code",
      "metadata": {
        "id": "t9aGwqls0cfa"
      },
      "source": [
        "# See the image file:\n",
        "DispImage (\"capture.JPG\")"
      ],
      "execution_count": null,
      "outputs": []
    },
    {
      "cell_type": "code",
      "metadata": {
        "id": "qV4Mlyvca2fN"
      },
      "source": [
        "# remove the two text files for another round of playing\n",
        "! rm script.txt\n",
        "! rm translated.txt"
      ],
      "execution_count": null,
      "outputs": []
    }
  ]
}