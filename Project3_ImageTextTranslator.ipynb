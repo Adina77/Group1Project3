{
  "nbformat": 4,
  "nbformat_minor": 0,
  "metadata": {
    "colab": {
      "name": "Copy 3 Project3-ImageTextTranslator.ipynb",
      "provenance": [],
      "collapsed_sections": [],
      "include_colab_link": true
    },
    "kernelspec": {
      "display_name": "Python 3",
      "name": "python3"
    },
    "language_info": {
      "name": "python"
    }
  },
  "cells": [
    {
      "cell_type": "markdown",
      "metadata": {
        "id": "view-in-github",
        "colab_type": "text"
      },
      "source": [
        "<a href=\"https://colab.research.google.com/github/solisti/Group1Project3/blob/experimental/Project3_ImageTextTranslator.ipynb\" target=\"_parent\"><img src=\"https://colab.research.google.com/assets/colab-badge.svg\" alt=\"Open In Colab\"/></a>"
      ]
    },
    {
      "cell_type": "markdown",
      "metadata": {
        "id": "i_0XGDGrTSA7"
      },
      "source": [
        "# Image Text Translator\n",
        "Click the \"Open in Colab\" link to open this Jupyter Notebook in Google Colab. In Google Colab, click on the file icon (with up arrow) in the Files pane on the left to upload an image file and a font file. By default, files are placed in /contents, which is also the default working directory. Refresh the Files pane by clicking the folder icon with round arrow."
      ]
    },
    {
      "cell_type": "code",
      "metadata": {
        "id": "XeOwYOCzUJqn"
      },
      "source": [
        "# Run this block to install pytesseract and translate (Python libraries)\n",
        "# and tesseract-ocr (from Ubuntu repo), which are not installed\n",
        "# in Google's Ubuntu vm. Need to re-run the block if session times out \n",
        "# after period of un-use. But the installs are fast.\n",
        "\n",
        "# The following will show whether or not pytesseract is installed.\n",
        "# It just prints 0 if installed, or else an error message.\n",
        "# ! python -c \"import pytesseract\"\n",
        "# ! echo $?\n",
        "\n",
        "# PIL is already installed in Google's Ubuntu vm (Bionic, 18.0.4)\n",
        "# ! python -c \"import PIL\"\n",
        "# ! echo $?\n",
        "\n",
        "# In newer Debian and Ubuntu repos the default is now Pillow.\n",
        "# To install on your own Debian/Ubuntu system: \n",
        "# apt install python3-pil and\n",
        "# apt install python3-pil.imgagetk (that installs Pillow now). May not need pil.imagetk.\n",
        "\n",
        "# PIL (Pillow) tutorial: https://pillow.readthedocs.io/en/stable/handbook/tutorial.html\n",
        "\n",
        "# next istall is documented here: https://pypi.org/project/pytesseract/\n",
        "! pip install pytesseract\n",
        "\n",
        "# next install is documented here: https://pypi.org/project/translate/\n",
        "! pip install translate\n",
        "\n",
        "# next install is documented here: https://tesseract-ocr.github.io/tessdoc/Home.html\n",
        "# This is not a Python library (can't insall with pip or conda).\n",
        "# Right now (Oct 2021), apt for Google Colab vm is fetching from Ubuntu Bionic repo:\n",
        "! apt install tesseract-ocr\n"
      ],
      "execution_count": null,
      "outputs": []
    },
    {
      "cell_type": "code",
      "metadata": {
        "id": "Qj9ddXGaoQOP",
        "colab": {
          "base_uri": "https://localhost:8080/"
        },
        "outputId": "3f169494-a974-4c64-af4e-b403aed30aef"
      },
      "source": [
        "# This shows that tesseract is installed (and its location)\n",
        "! which tesseract"
      ],
      "execution_count": 22,
      "outputs": [
        {
          "output_type": "stream",
          "name": "stdout",
          "text": [
            "/usr/bin/tesseract\n"
          ]
        }
      ]
    },
    {
      "cell_type": "code",
      "metadata": {
        "id": "dFWitT9AUgm5"
      },
      "source": [
        "# Install the desired languages for tesseract-ocr:\n",
        "# Add (or comment out) languages as desired.\n",
        "# The 3-letter language codes (and language files if needed) can be found here: \n",
        "# https://tesseract-ocr.github.io/tessdoc/Data-Files.html\n",
        "\n",
        "# simplified Chinese\n",
        "! apt install tesseract-ocr-chi-sim\n",
        "\n",
        "# Hungarian\n",
        "# ! apt install tesseract-ocr-hun\n",
        "\n",
        "# German\n",
        "# ! apt install tesseract-ocr-deu"
      ],
      "execution_count": null,
      "outputs": []
    },
    {
      "cell_type": "code",
      "metadata": {
        "id": "hGvSkuddh9QT",
        "colab": {
          "base_uri": "https://localhost:8080/"
        },
        "outputId": "f6343a50-988b-4df1-c7dc-3c8b19a40c56"
      },
      "source": [
        "# check which languages are installed:\n",
        "! tesseract --list-langs"
      ],
      "execution_count": 24,
      "outputs": [
        {
          "output_type": "stream",
          "name": "stdout",
          "text": [
            "List of available languages (3):\n",
            "eng\n",
            "osd\n",
            "chi_sim\n"
          ]
        }
      ]
    },
    {
      "cell_type": "code",
      "metadata": {
        "id": "lRLKBQj15TFW"
      },
      "source": [
        "# maybe helpful to print working directory and contents. \n",
        "# By default the working directory is /content, and uploaded files by default are placed there.\n",
        "# You can also see the uploaded files in the Files pane on the left (may need to click the\n",
        "# folder refresh icon).\n",
        "! pwd\n",
        "! ls"
      ],
      "execution_count": null,
      "outputs": []
    },
    {
      "cell_type": "code",
      "metadata": {
        "id": "n3m0KP2qpsSy",
        "colab": {
          "base_uri": "https://localhost:8080/",
          "height": 126
        },
        "outputId": "88e934ad-14f7-498c-abc9-a0023d377d67"
      },
      "source": [
        "# Run this block to display an image file\n",
        "from IPython.display import Image as DispImage\n",
        "\n",
        "# To display an image file that is in the working directory:\n",
        "# DispImage(\"ImageName.jpg\")\n",
        "DispImage (\"1.png\")"
      ],
      "execution_count": 23,
      "outputs": [
        {
          "output_type": "execute_result",
          "data": {
            "image/png": "[encoded data removed]",
            "text/plain": [
              "<IPython.core.display.Image object>"
            ]
          },
          "metadata": {},
          "execution_count": 23
        }
      ]
    },
    {
      "cell_type": "markdown",
      "metadata": {
        "id": "thwjBz7R_RO6"
      },
      "source": [
        "The following is the Image Text Tranlsator code block. It is also availabe as the imgtl.py file, which can be run on your local machine with python3. The program will ask you for a file path to your image file. Ideally this will be your working directory, and if so type:\n",
        "\n",
        "./"
      ]
    },
    {
      "cell_type": "code",
      "metadata": {
        "id": "eUq0wXPqlrzu",
        "colab": {
          "base_uri": "https://localhost:8080/"
        },
        "outputId": "f67632dc-4d0e-4c3b-b345-6270f92b1fe8"
      },
      "source": [
        "from PIL import Image\n",
        "import pytesseract\n",
        "from translate import Translator\n",
        "from PIL import ImageFont, ImageDraw, Image\n",
        "\n",
        "# The next line may not be needed. It is needed if tesseract is not in your PATH\n",
        "# (Check path for tesseract and modify the line below if needed)\n",
        "pytesseract.pytesseract.tesseract_cmd = r'/usr/bin/tesseract'\n",
        "\n",
        "def ocr_core(filename):\n",
        "    \"\"\"\n",
        "    This function will handle the core OCR processing of images.\n",
        "    \"\"\"\n",
        "    text = pytesseract.image_to_string(Image.open(filename), lang='chi_sim')\n",
        "    return text\n",
        "\n",
        "#writes text extracted from image into a txt file named \"script.txt\"\n",
        "def writefile(image_path, strstr):\n",
        "\twordlist = strstr.split()\n",
        "\twith open(image_path + '/script.txt', 'a') as f:\n",
        "\t\tf.writelines(\"\\r\".join(wordlist))\n",
        "\n",
        "# takes text extracted from txt file and translates them, outputs translated \n",
        "# version into a txt file called \"translated.txt\" and outputs an image\n",
        "# file called Capture.JPH.\n",
        "def translate_text(image_path):\n",
        "    translator = Translator(to_lang=\"en\", from_lang=\"zh\")\n",
        "    width = 1000\n",
        "    height = 1000\n",
        "    im  = Image.new( mode = \"RGB\", size = (width, height), color = (255, 255, 255) )\n",
        "\n",
        "    with open(image_path + '/script.txt', encoding='utf-8') as f:\n",
        "        contents = f.readlines()\n",
        "\n",
        "    with open(image_path + '/translated.txt', 'a') as n:\n",
        "        for line in contents:\n",
        "            n.writelines(translator.translate(line) + \"\\n\")\n",
        "            draw = ImageDraw.Draw(im)\n",
        "            font = ImageFont.truetype(\"arial.ttf\", 15)\n",
        "            for i in range(9):\n",
        "                draw.text((10, i*14), translator.translate(line), fill=(0,0,0,0), font=font)\n",
        "        im.save(\"Capture.JPG\");\n",
        "        im.show();\n",
        "\n",
        "# obtain input path and number of files from the user\n",
        "path = input('file path: ')\n",
        "nums = input('# of files: ')\n",
        "\n",
        "# Change the translator provider\n",
        "# Default is mymemory but it limits the number of translations per day.\n",
        "# Template code to change provider:\n",
        "# secret = '<your secret from Microsoft or DeepL>'\n",
        "# translator = Translator(provider='<the name of the provider, eg. microsoft or deepl>', to_lang=to_lang, secret_access_key=secret)\n",
        "\n",
        "# I signed up for DeepL account and got this access key but is seems not to be working because mymemory is still used\n",
        "secret = '4ab5c119-0001-6b9d-8f3a-a7963bbabbe3:fx'\n",
        "translator = Translator(provider = 'deepl', to_lang=\"en\", secret_access_key=secret)\n",
        "\n",
        "\n",
        "print(\"******Starting******\")\n",
        "\n",
        "# This performs the OCR and writes a text file caled script.txt\n",
        "for n in range(1, int(nums)+1):\n",
        "    text = ocr_core(path + \"/\" + str(n) + \".png\")\n",
        "    writefile(path, text)\n",
        "    print(\"OCR of image \" + str(n) + \" is done\")\n",
        "\n",
        "# This performs the translation step (it may take a while)\n",
        "print(\"Now performing the translation.\")\n",
        "translate_text(path)\n",
        "\n",
        "print(\"~~~~~~Finished~~~~~~\")\n"
      ],
      "execution_count": 48,
      "outputs": [
        {
          "output_type": "stream",
          "name": "stdout",
          "text": [
            "file path: ./\n",
            "# of files: 1\n",
            "******Starting******\n",
            "OCR of image 1 is done\n",
            "Now performing the translation.\n",
            "~~~~~~Finished~~~~~~\n"
          ]
        }
      ]
    },
    {
      "cell_type": "markdown",
      "metadata": {
        "id": "KH0YsUO4Wvd3"
      },
      "source": [
        "The code above generates two text files and an image file. The script.txt file shows the original language, and translated.txt and Capture.JPG show the translation. To see these in the Files panel on the left, click the folder icon with round arrow (to refresh)."
      ]
    },
    {
      "cell_type": "code",
      "metadata": {
        "id": "-p5r4e0hXZ_3"
      },
      "source": [
        "# See at least a part of each of the .txt files that are generated\n",
        "!echo \"The original:\"\n",
        "!head script.txt\n",
        "!echo \"...\"\n",
        "!echo \"The translation:\"\n",
        "!head translated.txt\n",
        "!echo \"...\"\n"
      ],
      "execution_count": null,
      "outputs": []
    },
    {
      "cell_type": "markdown",
      "metadata": {
        "id": "gdKLjN_aw_44"
      },
      "source": [
        "You can see the output image file by running the next code block. The Capture.JPG file will be over-written the next time the translate_text method is run, so change the file name if you want to save it (or you can download the file: hover over the file name in the Files pane, and the three vertical dots give you the option to download)."
      ]
    },
    {
      "cell_type": "code",
      "metadata": {
        "id": "t9aGwqls0cfa"
      },
      "source": [
        "# See the image file:\n",
        "DispImage (\"Capture.JPG\")"
      ],
      "execution_count": null,
      "outputs": []
    },
    {
      "cell_type": "markdown",
      "metadata": {
        "id": "RRnhNrHvw2KQ"
      },
      "source": [
        "You need to remove the text files, because otherwise text will be appended to them when the writefile and translate_text methods are next run."
      ]
    },
    {
      "cell_type": "code",
      "metadata": {
        "id": "qV4Mlyvca2fN"
      },
      "source": [
        "# remove the two text files for another round of playing\n",
        "! rm script.txt\n",
        "! rm translated.txt"
      ],
      "execution_count": 47,
      "outputs": []
    }
  ]
}